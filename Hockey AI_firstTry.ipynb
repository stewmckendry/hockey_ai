{
 "cells": [
  {
   "cell_type": "markdown",
   "id": "a7d59c2d-d75f-4876-948b-332a521e0ea9",
   "metadata": {},
   "source": [
    "<b>Section 1: Setup & Import</b>"
   ]
  },
  {
   "cell_type": "code",
   "execution_count": 4,
   "id": "5b645015-ea79-4851-b0f8-66f5e8bb68e9",
   "metadata": {},
   "outputs": [
    {
     "ename": "SyntaxError",
     "evalue": "invalid syntax (2190478764.py, line 10)",
     "output_type": "error",
     "traceback": [
      "\u001b[0;36m  Cell \u001b[0;32mIn[4], line 10\u001b[0;36m\u001b[0m\n\u001b[0;31m    import numpy as\u001b[0m\n\u001b[0m                   ^\u001b[0m\n\u001b[0;31mSyntaxError\u001b[0m\u001b[0;31m:\u001b[0m invalid syntax\n"
     ]
    }
   ],
   "source": [
    "# 🚀 Always run this cell first! It contains all necessary imports.\n",
    "\n",
    "import gc\n",
    "import sys\n",
    "import pprint\n",
    "\n",
    "import requests\n",
    "import json\n",
    "\n",
    "import numpy as\n",
    "import pandas as pd\n",
    "import datetime\n",
    "import matplotlib.pyplot as plt\n",
    "import seaborn as sns\n",
    "\n",
    "from sklearn.model_selection import train_test_split\n",
    "from sklearn.preprocessing import StandardScaler"
   ]
  },
  {
   "cell_type": "code",
   "execution_count": 2,
   "id": "914e0dab-9049-45a5-9830-f7fe9d057684",
   "metadata": {},
   "outputs": [
    {
     "name": "stdout",
     "output_type": "stream",
     "text": [
      "<class 'pandas.core.frame.DataFrame'>\n",
      "RangeIndex: 61 entries, 0 to 60\n",
      "Data columns (total 6 columns):\n",
      " #   Column       Non-Null Count  Dtype  \n",
      "---  ------       --------------  -----  \n",
      " 0   id           61 non-null     int64  \n",
      " 1   franchiseId  59 non-null     float64\n",
      " 2   fullName     61 non-null     object \n",
      " 3   leagueId     61 non-null     int64  \n",
      " 4   rawTricode   61 non-null     object \n",
      " 5   triCode      61 non-null     object \n",
      "dtypes: float64(1), int64(2), object(3)\n",
      "memory usage: 3.0+ KB\n",
      "None\n",
      "   id  franchiseId              fullName  leagueId rawTricode triCode\n",
      "0  32         27.0      Quebec Nordiques       133        QUE     QUE\n",
      "1   8          1.0    Montréal Canadiens       133        MTL     MTL\n",
      "2  58          5.0  Toronto St. Patricks       133        TSP     TSP\n",
      "3   7         19.0        Buffalo Sabres       133        BUF     BUF\n",
      "4  46         13.0         Oakland Seals       133        OAK     OAK\n"
     ]
    }
   ],
   "source": [
    "# NHL API URL for team stats\n",
    "url = \"https://api.nhle.com/stats/rest/en/team\"\n",
    "\n",
    "# Fetch data from the API\n",
    "response = requests.get(url)\n",
    "\n",
    "# Convert response to JSON format\n",
    "data = response.json()\n",
    "\n",
    "# Extract relevant information\n",
    "#teams = []\n",
    "#for team in data[\"teams\"]:\n",
    "#    teams.append({\n",
    "#        \"id\": team[\"id\"],\n",
    "#        \"name\": team[\"name\"],\n",
    "#      \"abbreviation\": team[\"abbreviation\"],\n",
    "#        \"venue\": team[\"venue\"][\"name\"],\n",
    "#        \"city\": team[\"venue\"][\"city\"],\n",
    "#        \"division\": team[\"division\"][\"name\"],\n",
    "#        \"conference\": team[\"conference\"][\"name\"],\n",
    "#        \"first_year_of_play\": team[\"firstYearOfPlay\"]\n",
    "#    })\n",
    "\n",
    "# Extract the correct key (if \"data\" contains the list)\n",
    "if \"data\" in data:\n",
    "    df_teams = pd.DataFrame(data[\"data\"])\n",
    "else:\n",
    "    df_teams = pd.DataFrame()  # Create an empty DataFrame if no data found\n",
    "\n",
    "\n",
    "# Display DataFrame info\n",
    "print(df_teams.info())  # Check if data is loaded correctly\n",
    "print(df_teams.head())  # Display first few rows"
   ]
  },
  {
   "cell_type": "code",
   "execution_count": 3,
   "id": "c4a9200e-cbed-4885-bff7-a66267ec7759",
   "metadata": {},
   "outputs": [
    {
     "ename": "NameError",
     "evalue": "name 'show_memory_usage' is not defined",
     "output_type": "error",
     "traceback": [
      "\u001b[0;31m---------------------------------------------------------------------------\u001b[0m",
      "\u001b[0;31mNameError\u001b[0m                                 Traceback (most recent call last)",
      "Cell \u001b[0;32mIn[3], line 1\u001b[0m\n\u001b[0;32m----> 1\u001b[0m \u001b[43mshow_memory_usage\u001b[49m()\n\u001b[1;32m      2\u001b[0m optimize_dataframe(df_teams)\n",
      "\u001b[0;31mNameError\u001b[0m: name 'show_memory_usage' is not defined"
     ]
    }
   ],
   "source": [
    "show_memory_usage()\n",
    "optimize_dataframe(df_teams)"
   ]
  },
  {
   "cell_type": "code",
   "execution_count": null,
   "id": "cb11d258-d64b-44f1-b4ab-9f50ed4e7036",
   "metadata": {},
   "outputs": [],
   "source": [
    "print(df_teams.isnull().sum())  # check for missing values"
   ]
  },
  {
   "cell_type": "code",
   "execution_count": null,
   "id": "5773efd2-8195-4655-8920-e72ab3ed70f4",
   "metadata": {},
   "outputs": [],
   "source": [
    "df_teams[\"franchiseId\"].fillna(-1, inplace=True)  # Replace NaN with -1"
   ]
  },
  {
   "cell_type": "code",
   "execution_count": null,
   "id": "9d50acaf-f2bf-46c2-9a10-a1bf0ddfe805",
   "metadata": {},
   "outputs": [],
   "source": [
    "print(df_teams.isnull().sum())  # check for missing values"
   ]
  },
  {
   "cell_type": "code",
   "execution_count": null,
   "id": "eec5e9cf-5012-4870-aabe-c11a6c81d76c",
   "metadata": {},
   "outputs": [],
   "source": [
    "df_teams.rename(columns={\"fullName\": \"team_name\", \"triCode\": \"team_code\"}, inplace=True)  #rename columns for readability\n"
   ]
  },
  {
   "cell_type": "code",
   "execution_count": null,
   "id": "d6fe0536-76a7-4cdd-9bbb-92374d550a90",
   "metadata": {},
   "outputs": [],
   "source": [
    "#visualize number of teams by league\n",
    "\n",
    "plt.figure(figsize=(8, 4))\n",
    "sns.countplot(x=df_teams[\"leagueId\"])\n",
    "plt.title(\"Number of Teams by League\")\n",
    "plt.xlabel(\"League ID\")\n",
    "plt.ylabel(\"Team Count\")\n",
    "plt.show()"
   ]
  },
  {
   "cell_type": "code",
   "execution_count": null,
   "id": "17bef92c-9736-4ef8-b07f-2433f756ea8b",
   "metadata": {},
   "outputs": [],
   "source": [
    "df_teams[\"leagueId\"].value_counts()  #list + counts of League IDs "
   ]
  },
  {
   "cell_type": "code",
   "execution_count": null,
   "id": "60f1ea8f-0d58-4dec-a5f3-8dd83de0a073",
   "metadata": {},
   "outputs": [],
   "source": [
    "#visualize number of teams by team code\n",
    "plt.figure(figsize=(8, 4))\n",
    "sns.countplot(x=df_teams[\"team_code\"])\n",
    "plt.title(\"Number of Teams by Team Code\")\n",
    "plt.xlabel(\"Team Code\")\n",
    "plt.ylabel(\"Team Count\")\n",
    "plt.show()"
   ]
  },
  {
   "cell_type": "code",
   "execution_count": null,
   "id": "b0a4ee11-3859-4221-bfaa-deebf4690831",
   "metadata": {},
   "outputs": [],
   "source": [
    "df_teams[\"team_code\"].value_counts()  #list + counts of team IDs "
   ]
  },
  {
   "cell_type": "code",
   "execution_count": null,
   "id": "c98f44ce-43d8-43cf-b8f7-2a4c2eae9a16",
   "metadata": {},
   "outputs": [],
   "source": [
    "# fetch list of players on roster for 2024-2025 season (first attempt)\n",
    "\n",
    "# NHL API URL for player list\n",
    "url = \"https://api-web.nhle.com/v1/roster/TOR/20242025\"  # Adjust for the season and team name (Toronto, 2024-25 season)\n",
    "\n",
    "# Fetch data from API\n",
    "response = requests.get(url)\n",
    "data = response.json()\n",
    "\n",
    "# Convert response to DataFrame -- need to specify a KEY = goalies, forwards, defence; how the API response data is organized\n",
    "df_players = pd.DataFrame(data[\"goalies\"])\n",
    "\n",
    "# Display first few rows\n",
    "df_players.head()"
   ]
  },
  {
   "cell_type": "code",
   "execution_count": null,
   "id": "113e3fb6-c909-4aec-9d97-9031fda68a0e",
   "metadata": {},
   "outputs": [],
   "source": [
    "show_memory_usage()\n",
    "optimize_dataframe(df_players)"
   ]
  },
  {
   "cell_type": "code",
   "execution_count": null,
   "id": "77cd8148-0566-4705-9701-940cd8c3c1e3",
   "metadata": {},
   "outputs": [],
   "source": [
    "# fetch list of players on roster for 2024-2025 season (second attempt - get the keys/categories dynamically)\n",
    "\n",
    "# NHL API URL for player list\n",
    "url = \"https://api-web.nhle.com/v1/roster/TOR/20242025\"  # Adjust for the season and team name\n",
    "\n",
    "# Fetch data from API\n",
    "response = requests.get(url)\n",
    "data = response.json()\n",
    "\n",
    "#print top-level keys of dataset (as data is organized in forwards, goalies and defence; \"key\" or category = first level of nested JSON\n",
    "for category in data.keys():\n",
    "    print(\"Category:\", category)\n",
    "\n",
    "#print number of players by category/key and the first few players info\n",
    "for category, players in data.items():\n",
    "    print(f\"\\nCategory: {category} - {len(players)} players\")\n",
    "\n",
    "    # Print first few players in this category\n",
    "    for player in players[:3]:  # Show first 3 players only\n",
    "        print(player[\"id\"], \"-\", player[\"firstName\"], player[\"lastName\"])\n",
    "\n",
    "# Convert response to DataFrame\n",
    "#df_players = pd.DataFrame(data[\"goalies\"])\n",
    "\n",
    "# Display first few rows\n",
    "#df_players.head()"
   ]
  },
  {
   "cell_type": "code",
   "execution_count": null,
   "id": "479f9a5c-e797-4c5c-bac2-725b0d74b5b1",
   "metadata": {},
   "outputs": [],
   "source": [
    "# fetch list of players on roster for 2024-2025 season (third attempt - inspect the column names in player details/roster\n",
    "\n",
    "# Fetch roster data\n",
    "url = \"https://api-web.nhle.com/v1/roster/TOR/20242025\"  #specify team and season\n",
    "response = requests.get(url)\n",
    "data = response.json()\n",
    "\n",
    "# Print full details of the first player (for example, from Forwards)\n",
    "first_category = list(data.keys())[0]  # Get the first category (e.g., \"Forwards\")\n",
    "first_player = data[first_category][0]  # Get the first player in that category\n",
    "\n",
    "# Pretty-print the player data\n",
    "print(json.dumps(first_player, indent=4))"
   ]
  },
  {
   "cell_type": "code",
   "execution_count": null,
   "id": "b31335f3-7ed7-4f7f-88b9-95d253b5b3ce",
   "metadata": {},
   "outputs": [],
   "source": [
    "# capture all the player details automatically and put all the players into one flat list / dataframe \n",
    "\n",
    "all_players = []\n",
    "\n",
    "# Loop through each category (Forwards, Goalies, Defense)\n",
    "for category, players in data.items():\n",
    "    for player in players:\n",
    "        player_dict = player.copy()  # Copy player data\n",
    "        player_dict[\"position\"] = category  # Add category as position\n",
    "        all_players.append(player_dict)\n",
    "\n",
    "# Convert to DataFrame\n",
    "df_players = pd.DataFrame(all_players)\n",
    "\n",
    "# Display first few rows\n",
    "df_players.head()"
   ]
  },
  {
   "cell_type": "code",
   "execution_count": null,
   "id": "85998540-b010-4d0a-89fa-95dcc2905efc",
   "metadata": {},
   "outputs": [],
   "source": [
    "show_memory_usage()\n",
    "optimize_dataframe(df_players)"
   ]
  },
  {
   "cell_type": "code",
   "execution_count": null,
   "id": "a9f3425a-27f1-490f-bf50-99b82af0b750",
   "metadata": {},
   "outputs": [],
   "source": [
    "#check available columns\n",
    "\n",
    "print(df_players.columns)"
   ]
  },
  {
   "cell_type": "code",
   "execution_count": null,
   "id": "f393d5b1-372a-40e3-ba9b-5550d99b66cc",
   "metadata": {},
   "outputs": [],
   "source": [
    "Now we will create a consolidated list of players from all teams in the current season\n",
    "Overview of Steps\n",
    "\n",
    "1️⃣ Get the list of team codes (from the Teams API)\n",
    "2️⃣ Loop through each team and request their roster\n",
    "3️⃣ Flatten the roster data (Forwards, Goalies, Defense)\n",
    "4️⃣ Merge all team rosters into a single DataFrame\n"
   ]
  },
  {
   "cell_type": "code",
   "execution_count": null,
   "id": "a38b717d-4ded-4a9f-9c44-8e3e1e8e05d3",
   "metadata": {},
   "outputs": [],
   "source": [
    "#step 1 fetch list of team codes --> check keys\n",
    "\n",
    "# NHL API URL to get team list\n",
    "url = \"https://api-web.nhle.com/v1/standings/now\"  # API for current season standings (includes teams) - now = date\n",
    "response = requests.get(url)\n",
    "data = response.json()\n",
    "\n",
    "# Extract team codes\n",
    "teams = []\n",
    "\n",
    "# see if there are keys\n",
    "print(\"Top-level keys:\", data.keys())\n"
   ]
  },
  {
   "cell_type": "code",
   "execution_count": null,
   "id": "194d1ea4-6f62-41f5-b8f2-9515ada0419a",
   "metadata": {},
   "outputs": [],
   "source": [
    "#get the 3rd key = standings and check columns\n",
    "first_category = list(data.keys())[2]\n",
    "first_team = data[first_category][0]\n",
    "\n",
    "print(json.dumps(first_team, indent=4))"
   ]
  },
  {
   "cell_type": "code",
   "execution_count": null,
   "id": "9d7a86bf-315b-4efc-b741-b5c4fd92d252",
   "metadata": {},
   "outputs": [],
   "source": [
    "# STEP 1 retrieve all team codes and names from the API (now that we know what team fields to grab from standings)\n",
    "\n",
    "# NHL API URL to get team list\n",
    "url = \"https://api-web.nhle.com/v1/standings/now\"  # API for current season standings (includes teams)\n",
    "response = requests.get(url)\n",
    "data = response.json()\n",
    "\n",
    "# Extract team codes\n",
    "teams = []\n",
    "\n",
    "for team in data[\"standings\"]:\n",
    "    teams.append({\n",
    "        \"teamAbbrev\": team[\"teamAbbrev\"],  # Short code (e.g., \"PIT\" for Pittsburgh Penguins)\n",
    "        \"teamName\": team[\"teamName\"],  # Full team name\n",
    "        #\"teamId\": team[\"teamId\"]  # Unique team ID\n",
    "    })\n",
    "\n",
    "# Convert to DataFrame\n",
    "df_teams = pd.DataFrame(teams)\n",
    "\n",
    "# Display first few rows\n",
    "df_teams.head()"
   ]
  },
  {
   "cell_type": "code",
   "execution_count": null,
   "id": "7cf601f9-7041-4e29-b475-bde0db0dccfc",
   "metadata": {},
   "outputs": [],
   "source": [
    "show_memory_usage()\n",
    "optimize_dataframe(df_teams)"
   ]
  },
  {
   "cell_type": "code",
   "execution_count": null,
   "id": "e9db3c92-3535-4366-94c5-6e7cc0c7fdff",
   "metadata": {},
   "outputs": [],
   "source": [
    "# STEP 2 loop through the teams and fetch roster\n",
    "\n",
    "all_players = []  # List to store all player data\n",
    "\n",
    "# Loop through each team and fetch their roster\n",
    "for index, team in df_teams.iterrows():\n",
    "    #team_id = team[\"teamId\"]  # Get team ID\n",
    "    team_name = team[\"teamName\"][\"default\"]  # only extract the default value - it has a nested dictionary of format (default, value)\n",
    "    team_abbrev = team[\"teamAbbrev\"][\"default\"]\n",
    "    \n",
    "    print(f\"Fetching roster for ({team_abbrev})...\")\n",
    "\n",
    "    # NHL API URL for team rosters\n",
    "    roster_url = f\"https://api-web.nhle.com/v1/roster/{team_abbrev}/20242025\"\n",
    "    \n",
    "    try:\n",
    "        response = requests.get(roster_url)\n",
    "        data = response.json()\n",
    "        \n",
    "        # Loop through each category (Forwards, Goalies, Defense)\n",
    "        for category, players in data.items():\n",
    "            for player in players:\n",
    "                player_dict = player.copy()  # Copy player data\n",
    "                player_dict[\"position\"] = category  # Add category (Forwards, Goalies, Defense)\n",
    "                player_dict[\"team\"] = team_name  # Add team name\n",
    "                player_dict[\"teamAbbrev\"] = team_abbrev  # Add team abbreviation\n",
    "                \n",
    "                all_players.append(player_dict)\n",
    "\n",
    "    except Exception as e:\n",
    "        print(f\"Error fetching roster for {team_name}: {e}\")\n",
    "\n",
    "# Convert to DataFrame\n",
    "df_players = pd.DataFrame(all_players)\n",
    "\n",
    "# Display first few rows\n",
    "df_players.head()\n"
   ]
  },
  {
   "cell_type": "code",
   "execution_count": null,
   "id": "99fa3dd8-1d1e-4c6e-a66c-bd066d123ea4",
   "metadata": {},
   "outputs": [],
   "source": [
    "show_memory_usage()\n",
    "delete_dataframe(team)\n",
    "optimize_dataframe(df_players)"
   ]
  },
  {
   "cell_type": "code",
   "execution_count": null,
   "id": "7c771fdc-a295-41f0-94a6-2092b16d75b3",
   "metadata": {},
   "outputs": [],
   "source": [
    "show_memory_usage()"
   ]
  },
  {
   "cell_type": "code",
   "execution_count": null,
   "id": "2e5ac725-4807-4350-b106-952884f1b0bb",
   "metadata": {},
   "outputs": [],
   "source": [
    "# Step 3 check and clean the data in consolidated player list - profile of data\n",
    "\n",
    "df_players.info()  # Check data structure\n",
    "df_players.columns  # List all columns\n",
    "df_players.head()  # Preview data\n",
    "\n",
    "\n"
   ]
  },
  {
   "cell_type": "code",
   "execution_count": null,
   "id": "a91e16d1-cba3-4629-a848-65642cd019c2",
   "metadata": {},
   "outputs": [],
   "source": [
    "# check for missing values\n",
    "\n",
    "df_players.isnull().sum()  # check for missing values\n"
   ]
  },
  {
   "cell_type": "code",
   "execution_count": null,
   "id": "9985fee6-c08f-4ead-a46b-4c45ebaf4933",
   "metadata": {},
   "outputs": [],
   "source": [
    "df_players.drop(columns=[\"birthStateProvince\"], inplace=True)  # drop column with too many missing values\n",
    "df_players.columns\n"
   ]
  },
  {
   "cell_type": "code",
   "execution_count": null,
   "id": "8794ec0a-02b3-4ec0-bdcf-b826be88a35b",
   "metadata": {},
   "outputs": [],
   "source": [
    "#check for duplicates --> error because many fields (of type object) are dictionaries with (key, value) pairs - default then other values by language\n",
    "df_players.duplicated().sum()"
   ]
  },
  {
   "cell_type": "code",
   "execution_count": null,
   "id": "ce217a88-453e-4f1e-8452-5cc16d0427bc",
   "metadata": {},
   "outputs": [],
   "source": [
    "# convert text fields to lowercase for consistency\n",
    "df_players[\"team\"] = df_players[\"team\"].str.title()  # Capitalizes first letter\n",
    "df_players[\"position\"] = df_players[\"position\"].str.upper()  # Convert to uppercase"
   ]
  },
  {
   "cell_type": "code",
   "execution_count": null,
   "id": "aa3a8114-bb48-4ebe-b6e5-fa2f9fb7fd4c",
   "metadata": {},
   "outputs": [],
   "source": [
    "# convert height to consistent format --> error as there is no height column\n",
    "df_players[\"height\"] = df_players[\"height\"].str.replace(\" ft \", \"'\").str.replace(\" in\", \"\")"
   ]
  },
  {
   "cell_type": "code",
   "execution_count": null,
   "id": "324826c0-ec97-48a7-ad37-a40d75e40184",
   "metadata": {},
   "outputs": [],
   "source": [
    "# convert date to DateTime Format\n",
    "\n",
    "df_players[\"birthDate\"] = pd.to_datetime(df_players[\"birthDate\"])"
   ]
  },
  {
   "cell_type": "code",
   "execution_count": null,
   "id": "0ecef64a-b918-496a-9c6f-fdaf378bfe26",
   "metadata": {},
   "outputs": [],
   "source": [
    "# final check of data\n",
    "df_players.info()\n",
    "df_players.head()"
   ]
  },
  {
   "cell_type": "code",
   "execution_count": null,
   "id": "e8e0c37a-e9f6-425b-9c6e-1f731b3ab624",
   "metadata": {},
   "outputs": [],
   "source": [
    "# save the cleaned data to CSV\n",
    "df_players.to_csv(\"nhl_players_cleaned.csv\", index=False)"
   ]
  },
  {
   "cell_type": "code",
   "execution_count": null,
   "id": "56cfa639-77e9-4c45-9825-d7cb4b2e869e",
   "metadata": {},
   "outputs": [],
   "source": [
    "# visualize player data - plot # of players by position\n",
    "\n",
    "plt.figure(figsize=(8, 5))\n",
    "sns.countplot(y=df_players[\"position\"], order=df_players[\"position\"].value_counts().index, palette=\"coolwarm\")\n",
    "\n",
    "plt.title(\"Number of Players by Position\", fontsize=14)\n",
    "plt.xlabel(\"Count\")\n",
    "plt.ylabel(\"Position\")\n",
    "plt.show()"
   ]
  },
  {
   "cell_type": "code",
   "execution_count": null,
   "id": "1bb5a549-459c-428d-8d58-0520c550e268",
   "metadata": {},
   "outputs": [],
   "source": [
    "# visualize player height and weight distribution\n",
    "\n",
    "# Plot height distribution\n",
    "plt.figure(figsize=(8, 5))\n",
    "sns.histplot(df_players[\"heightInInches\"].dropna(), bins=20, kde=True, color=\"blue\")\n",
    "plt.title(\"Distribution of Player Heights\")\n",
    "plt.xlabel(\"Height (inches)\")\n",
    "plt.ylabel(\"Count\")\n",
    "plt.show()"
   ]
  },
  {
   "cell_type": "code",
   "execution_count": null,
   "id": "70db1e81-376c-49e8-b347-c4be14852b30",
   "metadata": {},
   "outputs": [],
   "source": [
    "# weight distribution\n",
    "\n",
    "plt.figure(figsize=(8, 5))\n",
    "sns.histplot(df_players[\"weightInPounds\"].dropna(), bins=20, kde=True, color=\"red\")\n",
    "plt.title(\"Distribution of Player Weights\")\n",
    "plt.xlabel(\"Weight (lbs)\")\n",
    "plt.ylabel(\"Count\")\n",
    "plt.show()"
   ]
  },
  {
   "cell_type": "code",
   "execution_count": null,
   "id": "c86d0a91-3c33-4b44-8dec-206034e5203f",
   "metadata": {},
   "outputs": [],
   "source": [
    "# height by position\n",
    "\n",
    "plt.figure(figsize=(10, 6))\n",
    "sns.boxplot(x=df_players[\"position\"], y=df_players[\"heightInInches\"], palette=\"muted\")\n",
    "plt.title(\"Player Height by Position\")\n",
    "plt.xlabel(\"Position\")\n",
    "plt.ylabel(\"Height (inches)\")\n",
    "plt.show()"
   ]
  },
  {
   "cell_type": "code",
   "execution_count": null,
   "id": "a3695e9b-f691-4f17-9bce-41a1e1ef6816",
   "metadata": {},
   "outputs": [],
   "source": [
    "# weight by position\n",
    "\n",
    "plt.figure(figsize=(10, 6))\n",
    "sns.boxplot(x=df_players[\"position\"], y=df_players[\"weightInPounds\"], palette=\"muted\")\n",
    "plt.title(\"Player Weight by Position\")\n",
    "plt.xlabel(\"Position\")\n",
    "plt.ylabel(\"Weight (lbs)\")\n",
    "plt.show()"
   ]
  },
  {
   "cell_type": "code",
   "execution_count": null,
   "id": "3d11958a-18be-42ea-9ee8-6e5639cc22e6",
   "metadata": {},
   "outputs": [],
   "source": [
    "#top 10 heaviest players\n",
    "\n",
    "df_heaviest = df_players.sort_values(by=\"weightInPounds\", ascending=False).head(10)\n",
    "\n",
    "#extract lastName from dictionary (key,value pairs for different languages in the dataset), and convest to string\n",
    "df_players[\"lastName\"] = df_players[\"lastName\"].apply(lambda x: x[\"default\"] if isinstance(x, dict) else x)\n",
    "\n",
    "plt.figure(figsize=(10, 5))\n",
    "sns.barplot(y=df_heaviest[\"lastName\"], x=df_heaviest[\"weightInPounds\"], palette=\"magma\")\n",
    "plt.title(\"Top 10 Heaviest NHL Players\")\n",
    "plt.xlabel(\"Weight (lbs)\")\n",
    "plt.ylabel(\"Player Name\")\n",
    "plt.show()"
   ]
  },
  {
   "cell_type": "code",
   "execution_count": null,
   "id": "c65414df-f548-4a59-80d7-a773a0203180",
   "metadata": {},
   "outputs": [],
   "source": [
    "Next step - integrate player data with game stats so we can see how they are performing\n",
    "\n",
    "Step 1 fetch NHL game results\n",
    "Step 2 extract key game details\n",
    "Step 3 merge player data with game data\n",
    "Step 4 analyze and visualize"
   ]
  },
  {
   "cell_type": "code",
   "execution_count": null,
   "id": "bcd0b0a1-f590-4ce5-b724-b53b6fb04395",
   "metadata": {},
   "outputs": [],
   "source": [
    "#step 1 fetch NHL game results --> check the scoreboard API - has list of games by team, with scores... includes like to \"gamecentre\" with more stats\n",
    "\n",
    "# NHL API URL for the game schedule/results for current season\n",
    "season = \"now\"  # Update to current season\n",
    "teamCode = \"tor\"\n",
    "url = f\"https://api-web.nhle.com/v1/scoreboard/{teamCode}/{season}\"\n",
    "\n",
    "# Fetch game data\n",
    "response = requests.get(url)\n",
    "data = response.json()\n",
    "\n",
    "#check JSON structure of API response to know what fields to grab\n",
    "print(json.dumps(data, indent=4))\n",
    "\n",
    "\"\"\"\n",
    "# Convert to DataFrame (updated post checking keys)\n",
    "df_games = pd.DataFrame(data[\"gamesByDate\"][\"games\"])\n",
    "\n",
    "# Display first few rows\n",
    "df_games.head()\n",
    "\"\"\""
   ]
  },
  {
   "cell_type": "code",
   "execution_count": null,
   "id": "d86e4d96-8257-4e4f-bf67-ee06b4e3e9f2",
   "metadata": {},
   "outputs": [],
   "source": [
    "#step 1b fetch NHL game results --> check the gamecenter API; every game has more details on player stats; we'll leave this alone for now\n",
    "\n",
    "# Look up gamecenter game stats (detail) for a specific game - tor-vs-van; 2025-02-08; game ID: 2024020884 \n",
    "gameID = 2024020884\n",
    "url = f\"https://api-web.nhle.com/v1/gamecenter/{gameID}/boxscore\"\n",
    "\n",
    "# Fetch game data\n",
    "response = requests.get(url)\n",
    "data = response.json()\n",
    "\n",
    "#check JSON structure of API response to know what fields to grab\n",
    "print(json.dumps(data, indent=4))\n",
    "\n",
    "\"\"\"\n",
    "# Convert to DataFrame (updated post checking keys)\n",
    "df_games = pd.DataFrame(data[\"gamesByDate\"][\"games\"])\n",
    "\n",
    "# Display first few rows\n",
    "df_games.head()\n",
    "\"\"\""
   ]
  },
  {
   "cell_type": "code",
   "execution_count": null,
   "id": "2cfa7f5a-8341-40e5-bb84-a002e19b53cf",
   "metadata": {},
   "outputs": [],
   "source": [
    "game_url = \"https://api-web.nhle.com/v1/score/now\"\n",
    "response = requests.get(game_url)\n",
    "data = response.json()\n",
    "print(json.dumps(data, indent=4))"
   ]
  },
  {
   "cell_type": "code",
   "execution_count": null,
   "id": "b606f9ea-ae4e-412b-b62e-22cb66bda4bb",
   "metadata": {},
   "outputs": [],
   "source": [
    "#step 1 & 2 fetch NHL game results and extract key \n",
    "# this function uses the scoreboard API - which includes games 21 days ago and 16 games into future\n",
    "\n",
    "def load_gamesFromScoreboardAPI(APIRequestDate):\n",
    "    all_games = []  # List to store all games data\n",
    "    \n",
    "    # Loop through each team and fetch their games in the current season\n",
    "    for index, team in df_teams.iterrows():\n",
    "        team_name = team[\"teamName\"][\"default\"]  # only extract the default value - it has a nested dictionary of format (default, value)\n",
    "        team_abbrev = team[\"teamAbbrev\"][\"default\"]\n",
    "        \n",
    "        print(f\"Fetching games for ({team_abbrev})...\")\n",
    "        \n",
    "        # NHL API URL for games this season for that team\n",
    "        game_url = f\"https://api-web.nhle.com/v1/scoreboard/{team_abbrev}/{APIRequestDate}\"\n",
    "\n",
    "        print(f\"Fetching data from: {game_url}\")\n",
    "        \n",
    "        try:\n",
    "            #get API call - fetch game data\n",
    "            response = requests.get(game_url)\n",
    "            if response.status_code != 200:\n",
    "                print(f\"⚠️ Error: Received status code {response.status_code} from API\")\n",
    "                print(f\"Response: {response.text}\")  # Print error details\n",
    "                continue  # Skip to next team if the request fails\n",
    "            \n",
    "            # retrieve JSON response\n",
    "            data = response.json()\n",
    "\n",
    "            # check if there's any data for this team\n",
    "            if \"gamesByDate\" not in data or not data[\"gamesByDate\"]:\n",
    "                print(f\"⚠️ No games found for {team_abbrev} on {APIRequestDate}\")\n",
    "                continue  # Skip to the next team\n",
    "                \n",
    "            # Loop through the JSON structure and pull out key game details (Game Date for that Team > Game > Key Fields) \n",
    "            for game_date in data[\"gamesByDate\"]:\n",
    "                            \n",
    "                for game in game_date[\"games\"]:\n",
    "                    all_games.append({\n",
    "                        \"gameID\": game[\"id\"],\n",
    "                        \"gameDate\": game[\"gameDate\"],\n",
    "                        \"season\": game[\"season\"],\n",
    "                        \"gameDetailURL\": game[\"gameCenterLink\"],\n",
    "                        \"venue\": game[\"venue\"][\"default\"],\n",
    "                        \"startTime\": game[\"startTimeUTC\"],\n",
    "                        \"awayTeam\": game[\"awayTeam\"][\"name\"][\"default\"],\n",
    "                        \"awayTeamAbbrev\": game[\"awayTeam\"][\"abbrev\"],\n",
    "                        \"awayTeamScore\": game.get(\"awayTeam\",{}).get(\"score\",0), # if score doesn't exist (game in future), then return 0 (for simplicity)\n",
    "                        \"homeTeam\": game[\"homeTeam\"][\"name\"][\"default\"],\n",
    "                        \"homeTeamAbbrev\": game[\"homeTeam\"][\"abbrev\"],\n",
    "                        \"homeTeamScore\": game.get(\"homeTeam\",{}).get(\"score\",0) # if score doesn't exist (game in future), then return 0 (for simplicity)\n",
    "                    })\n",
    "            \n",
    "        except Exception as e:\n",
    "            print(f\"Error fetching roster for {team_name}: {e}\")  #error handling on API call\n",
    "    \n",
    "    \n",
    "    # Convert to DataFrame\n",
    "    df_games = pd.DataFrame(all_games)\n",
    "    \n",
    "    # Display first few rows\n",
    "    df_games.info()\n",
    "    df_games.head()   \n",
    "\n",
    "    return df_games\n",
    "\n",
    "df_games = load_gamesFromScoreboardAPI(\"now\")\n"
   ]
  },
  {
   "cell_type": "code",
   "execution_count": null,
   "id": "d13fa746-e67e-4c14-8e9e-e53c0c7aae78",
   "metadata": {
    "scrolled": true
   },
   "outputs": [],
   "source": [
    "## the df_games only has 344 entries - low for an NHL season!  Lets profile what the game dates are\n",
    "df_games[\"gameDate\"].value_counts()"
   ]
  },
  {
   "cell_type": "code",
   "execution_count": null,
   "id": "1b4b0b1b-6402-44f2-a52e-1a6a2e7ae3e6",
   "metadata": {},
   "outputs": [],
   "source": [
    "# by playing the API, I noticed it converts \"now\" to the current date.  You can change this to another date\n",
    "# from the above output, it looks like the API provides a range of game dates\n",
    "#lets calculate what this range is so we know how to expand the API search for the season\n",
    "\n",
    "import datetime\n",
    "\n",
    "def check_gameDateRangeInAPI(df):\n",
    "    # Ensure gameDate is in datetime format\n",
    "    df[\"gameDate\"] = pd.to_datetime(df[\"gameDate\"])\n",
    "    \n",
    "    # Compute min and max game dates\n",
    "    min_game_date = df[\"gameDate\"].min()\n",
    "    max_game_date = df[\"gameDate\"].max()\n",
    "    \n",
    "    print(f\"📅 Earliest Game Date: {min_game_date}\")\n",
    "    print(f\"📅 Latest Game Date: {max_game_date}\")\n",
    "    \n",
    "    # Define the requested API date (replace \"now\" with actual date used in request)\n",
    "    api_requested_date = datetime.datetime.today()  # If \"now\"\n",
    "    # api_requested_date = datetime.datetime(2025, 2, 22)  # Example date used in request\n",
    "    \n",
    "    # Compute the difference between requested date and min/max game dates\n",
    "    days_before = (api_requested_date - min_game_date).days\n",
    "    days_after = (max_game_date - api_requested_date).days\n",
    "    \n",
    "    print(f\"📉 Days Before Requested Date: {days_before} days\")\n",
    "    print(f\"📈 Days After Requested Date: {days_after} days\")\n",
    "\n",
    "check_gameDateRangeInAPI(df_games)"
   ]
  },
  {
   "cell_type": "code",
   "execution_count": null,
   "id": "c7ede859-7aaf-4622-8867-1f7d46ad8982",
   "metadata": {},
   "outputs": [],
   "source": [
    "#lets now try to change the API response date to see if the range is the same -- \n",
    "#no results returned because the scoreboard API doesnt take date as a parameter (only accepts \"now\" or current date)\n",
    "\n",
    "df_games = load_gamesFromScoreboardAPI(str(\"2024-12-31\"))\n",
    "check_gameDateRangeInAPI(df_games)"
   ]
  },
  {
   "cell_type": "markdown",
   "id": "28f8156a-63e6-48f9-bb0f-209bfde63bfd",
   "metadata": {},
   "source": []
  },
  {
   "cell_type": "markdown",
   "id": "0f864348-d740-433e-afea-a79f5f80459f",
   "metadata": {},
   "source": [
    "OPTION 2 for GAME DATA\n",
    "Lets create second option for getting game data:\n",
    "1. Use team schedule API (https://api-web.nhle.com/v1/club-schedule-season/dal/now) to get list of game (gameIDs) for each team for the current season\n",
    "2. Use gamecenter API to retrieve game results for each gameID from #1"
   ]
  },
  {
   "cell_type": "code",
   "execution_count": null,
   "id": "4f055cdf-6606-47df-8656-0fd04c5ec2e4",
   "metadata": {},
   "outputs": [],
   "source": [
    "# let's first create a function that loads API response in a readable dictionary so we can investigate the structure\n",
    "\n",
    "def read_APIResponseStructure(url):\n",
    "    \n",
    "    # Fetch game data\n",
    "    response = requests.get(url)\n",
    "    data = response.json()\n",
    "\n",
    "    pp = pprint.PrettyPrinter(depth=4)  # Limits deep nesting\n",
    "    pp.pprint(data)"
   ]
  },
  {
   "cell_type": "code",
   "execution_count": null,
   "id": "65e12404-d7ac-4ff4-a7c8-5ac46b022dae",
   "metadata": {},
   "outputs": [],
   "source": [
    "# lets check the club-schedule-season API \n",
    "\n",
    "url = \"https://api-web.nhle.com/v1/club-schedule-season/dal/now\"\n",
    "\n",
    "read_APIResponseStructure(url)"
   ]
  },
  {
   "cell_type": "code",
   "execution_count": null,
   "id": "d102f8a0-2579-434b-a035-116b83b607d0",
   "metadata": {},
   "outputs": [],
   "source": [
    "# the club-schedule-season API has all the data we need for a new df_games that has ALL games in teh current season\n",
    "# lets write a new function for loading the current season games\n",
    "\n",
    "def load_gamesFromClubScheduleAPI():\n",
    "    all_games = []  # List to store all games data\n",
    "    \n",
    "    # Loop through each team and fetch their games in the current season\n",
    "    for index, team in df_teams.iterrows():\n",
    "        team_name = team[\"teamName\"][\"default\"]  # only extract the default value - it has a nested dictionary of format (default, value)\n",
    "        team_abbrev = team[\"teamAbbrev\"][\"default\"]\n",
    "        \n",
    "        print(f\"Fetching games for ({team_abbrev})...\")\n",
    "        \n",
    "        # NHL API URL for games this season for that team\n",
    "        # now = current season = 20242025\n",
    "        game_url = f\"https://api-web.nhle.com/v1/club-schedule-season/{team_abbrev}/now\"\n",
    "\n",
    "        print(f\"Fetching data from: {game_url}\")\n",
    "        \n",
    "        try:\n",
    "            #get API call - fetch game data\n",
    "            response = requests.get(game_url)\n",
    "            if response.status_code != 200:\n",
    "                print(f\"⚠️ Error: Received status code {response.status_code} from API\")\n",
    "                print(f\"Response: {response.text}\")  # Print error details\n",
    "                continue  # Skip to next team if the request fails\n",
    "            \n",
    "            # retrieve JSON response\n",
    "            data = response.json()\n",
    "\n",
    "            # check if there's any data for this team\n",
    "            if \"games\" not in data or not data[\"games\"]:\n",
    "                print(f\"⚠️ No games found for {team_abbrev}\")\n",
    "                continue  # Skip to the next team\n",
    "\n",
    "            # Loop through the JSON structure and pull out key game details (Game Date for that Team > Game > Key Fields) \n",
    "            for game in data[\"games\"]:\n",
    "                    \n",
    "                    # Convert gameDate to a datetime object\n",
    "                    game_date = datetime.datetime.strptime(game[\"gameDate\"], \"%Y-%m-%d\").date()\n",
    "\n",
    "                    # Only keep games that occurred today or earlier\n",
    "                    if game_date < datetime.date.today():\n",
    "                        all_games.append({\n",
    "                            \"gameID\": game[\"id\"],\n",
    "                            \"gameDate\": game[\"gameDate\"],\n",
    "                            \"season\": game[\"season\"],\n",
    "                            \"gameDetailURL\": game[\"gameCenterLink\"],\n",
    "                            \"venue\": game[\"venue\"][\"default\"],\n",
    "                            \"startTime\": game[\"startTimeUTC\"],\n",
    "                            \"awayTeam\": game[\"awayTeam\"][\"commonName\"][\"default\"],\n",
    "                            \"awayTeamAbbrev\": game[\"awayTeam\"][\"abbrev\"],\n",
    "                            \"awayTeamScore\": game.get(\"awayTeam\",{}).get(\"score\",0), # if score doesn't exist (game in future), then return 0 (for simplicity)\n",
    "                            \"homeTeam\": game[\"homeTeam\"][\"commonName\"][\"default\"],\n",
    "                            \"homeTeamAbbrev\": game[\"homeTeam\"][\"abbrev\"],\n",
    "                            \"homeTeamScore\": game.get(\"homeTeam\",{}).get(\"score\",0) # if score doesn't exist (game in future), then return 0 (for simplicity)\n",
    "                        })\n",
    "            \n",
    "        except Exception as e:\n",
    "            print(f\"Error fetching roster for {team_name}: {e}\")  #error handling on API call\n",
    "    \n",
    "    \n",
    "    # Convert to DataFrame\n",
    "    df_games = pd.DataFrame(all_games)\n",
    "    \n",
    "    # Display first few rows\n",
    "    df_games.info()\n",
    "    df_games.head()   \n",
    "\n",
    "    return df_games\n",
    "\n",
    "df_games = load_gamesFromClubScheduleAPI()\n"
   ]
  },
  {
   "cell_type": "code",
   "execution_count": null,
   "id": "12f1feee-33c0-42f4-8daf-7409c3509c2b",
   "metadata": {},
   "outputs": [],
   "source": [
    "#now we have 2067 games! Much better!\n",
    "#lets check the gameDate range -- good news, it goes from Sep 9 2024 (start of season) to Feb 24 (yesterday's date)\n",
    "\n",
    "# Compute min and max game dates\n",
    "min_game_date = df_games[\"gameDate\"].min()\n",
    "max_game_date = df_games[\"gameDate\"].max()\n",
    "\n",
    "print(f\"📅 Earliest Game Date: {min_game_date}\")\n",
    "print(f\"📅 Latest Game Date: {max_game_date}\")"
   ]
  },
  {
   "cell_type": "code",
   "execution_count": null,
   "id": "a6fa19df-bcf6-4d8e-8f3c-eb5f2c8d8e48",
   "metadata": {},
   "outputs": [],
   "source": [
    "show_memory_usage()\n",
    "optimize_dataframe(df_games)"
   ]
  },
  {
   "cell_type": "code",
   "execution_count": null,
   "id": "9a964341-ad11-4c1b-bab3-b066bc05b271",
   "metadata": {},
   "outputs": [],
   "source": [
    "\"\"\" - skip this step as games + players merges creates N:M matrix -- 450MB data frame!!\n",
    "\n",
    "# step 3 merge player and game data\n",
    "# we will merge on team code (teamAbbrev) that is is both datasets\n",
    "# we need to merge twice because in the game data, we have two teams - away (awayTeamAbbrev), and home (homeTeamAbbrev)\n",
    "\n",
    "# Merge home team players\n",
    "df_games_players = df_games.merge(\n",
    "    df_players, \n",
    "    left_on=\"homeTeamAbbrev\", \n",
    "    right_on=\"teamAbbrev\", \n",
    "    how=\"left\", \n",
    "    suffixes=(\"_game\", \"_homePlayer\")\n",
    ")\n",
    "\n",
    "# Merge away team players\n",
    "df_games_players = df_games_players.merge(\n",
    "    df_players, \n",
    "    left_on=\"awayTeamAbbrev\", \n",
    "    right_on=\"teamAbbrev\", \n",
    "    how=\"left\", \n",
    "    suffixes=(\"_home\", \"_away\")\n",
    ")\n",
    "\n",
    "# Display merged dataset\n",
    "df_games_players.head()\n",
    "\n",
    "\"\"\""
   ]
  },
  {
   "cell_type": "code",
   "execution_count": null,
   "id": "f413b9f6-10a6-481d-ab42-ed6833cef8e3",
   "metadata": {},
   "outputs": [],
   "source": [
    "show_memory_usage()\n",
    "optimize_dataframe(df_games_players)"
   ]
  },
  {
   "cell_type": "code",
   "execution_count": null,
   "id": "4c68e13e-f215-4ec8-b3b7-92463b2e6b07",
   "metadata": {},
   "outputs": [],
   "source": [
    "del df_games_players"
   ]
  },
  {
   "cell_type": "code",
   "execution_count": null,
   "id": "ac1b4d11-bbd6-4ad3-9dd1-79b542994f67",
   "metadata": {},
   "outputs": [],
   "source": [
    "gc.collect()"
   ]
  },
  {
   "cell_type": "code",
   "execution_count": null,
   "id": "e28bc585-8691-414f-81e6-07189dbe61a7",
   "metadata": {},
   "outputs": [],
   "source": [
    "show_memory_usage()"
   ]
  },
  {
   "cell_type": "code",
   "execution_count": null,
   "id": "d9848bfb-f32b-446b-8ca1-d6f89beab396",
   "metadata": {},
   "outputs": [],
   "source": [
    "#That 445MB memory entry (_56) is likely a stored reference to an old variable (probably the deleted df_games_players or another large DataFrame).\n",
    "#Even though you deleted df_games_players, Python’s interactive Jupyter environment keeps hidden references (_N variables) that store old outputs until you explicitly clear them.\n",
    "%reset out -f\n",
    "\n",
    "#This forces Jupyter to forget all _N outputs (like _56)."
   ]
  },
  {
   "cell_type": "code",
   "execution_count": null,
   "id": "ebbb9b5c-7224-4abb-898c-107e0545fb41",
   "metadata": {},
   "outputs": [],
   "source": [
    "show_memory_usage()"
   ]
  },
  {
   "cell_type": "code",
   "execution_count": null,
   "id": "784b1d94-751d-4c67-9ba0-1b1c7e36a0bb",
   "metadata": {},
   "outputs": [],
   "source": [
    "# the df_games_players merged data frame was too large because of N:M relationship between games and players\n",
    "# let's simplify to only what we need for the model\n",
    "# we will pull aggregate stats from players and add them to the games data frame directly - so our data set is just for N games but added features\n",
    "# added features from players to games: avg weight, avg height, nationality counts, avg age, \n",
    "\n",
    "#1 - Take mean of weight and height and add them to a temporary dataframe for aggregate player features by team\n",
    "df_team_features = df_players.groupby(\"teamAbbrev\").agg({\n",
    "    \"weightInPounds\": \"mean\",\n",
    "    \"heightInInches\": \"mean\"\n",
    "}).reset_index()\n",
    "\n",
    "# Rename columns for clarity\n",
    "df_team_features.rename(columns={\n",
    "    \"weightInPounds\": \"avg_team_weight\",\n",
    "    \"heightInInches\": \"avg_team_height\"\n",
    "}, inplace=True)\n",
    "\n",
    "# Display the new team-level DataFrame\n",
    "df_team_features.head()"
   ]
  },
  {
   "cell_type": "code",
   "execution_count": null,
   "id": "2b41dbba-3c2b-4107-a0bb-6809af2fd185",
   "metadata": {},
   "outputs": [],
   "source": [
    "#2 lets convert birthdate to age and add to team features\n",
    "\n",
    "# Ensure birthDate is in datetime format\n",
    "df_players[\"birthDate\"] = pd.to_datetime(df_players[\"birthDate\"])\n",
    "\n",
    "# Function to calculate age\n",
    "def calculate_age(birthdate):\n",
    "    today = pd.Timestamp.today()\n",
    "    age = today.year - birthdate.year - ((today.month, today.day) < (birthdate.month, birthdate.day))\n",
    "    return age\n",
    "\n",
    "# Apply function to compute age\n",
    "df_players[\"age\"] = df_players[\"birthDate\"].apply(calculate_age)\n",
    "\n",
    "# Compute new feature: Average Age per Team  - **another temporary data frame, remember to delete\n",
    "df_team_age = df_players.groupby(\"teamAbbrev\").agg({\n",
    "    \"age\": \"mean\"\n",
    "}).reset_index().rename(columns={\"age\": \"avg_team_age\"})\n",
    "\n",
    "# Merge new feature into df_team_features without overwriting\n",
    "df_team_features = df_team_features.merge(df_team_age, on=\"teamAbbrev\", how=\"left\")\n",
    "\n",
    "# Display first few rows\n",
    "df_team_features.head()"
   ]
  },
  {
   "cell_type": "code",
   "execution_count": null,
   "id": "662d6012-6fa1-45a9-8cfc-8dcd04d4725d",
   "metadata": {},
   "outputs": [],
   "source": [
    "#3 lets add nationality composition of each team by taking a count of players by birth country\n",
    "#lets start by profiling what countries are included in birthCountry field and what the syntax is\n",
    "\n",
    "df_players[\"birthCountry\"].value_counts()\n"
   ]
  },
  {
   "cell_type": "code",
   "execution_count": null,
   "id": "3615a3d0-cb15-428d-b049-a9bbd9ba9631",
   "metadata": {},
   "outputs": [],
   "source": [
    "#3a lets add nationality composition of each team by taking a count of players by birth country\n",
    "# now lets add a field for categorizing them - we'll use this for creating counts for each big nation by team\n",
    "\n",
    "# Define function to categorize birth countries\n",
    "def categorize_birth_country(country):\n",
    "    if country in [\"CAN\"]:\n",
    "        return \"CAN\"\n",
    "    elif country in [\"USA\"]:\n",
    "        return \"USA\"\n",
    "    elif country in [\"SWE\"]:\n",
    "        return \"SWE\"\n",
    "    elif country in [\"FIN\"]:\n",
    "        return \"FIN\"\n",
    "    elif country in [\"RUS\"]:\n",
    "        return \"RUS\"\n",
    "    else:\n",
    "        return \"OTHER\"\n",
    "\n",
    "# Apply function to create a new column\n",
    "df_players[\"birthCountryCategory\"] = df_players[\"birthCountry\"].str.upper().apply(categorize_birth_country)\n",
    "\n",
    "# Display first few rows to verify\n",
    "df_players[[\"lastName\", \"birthCountry\", \"birthCountryCategory\"]].head()"
   ]
  },
  {
   "cell_type": "code",
   "execution_count": null,
   "id": "3cd5b7da-cdd6-49bb-b7b3-fa0b57f3f985",
   "metadata": {},
   "outputs": [],
   "source": [
    "#3b we will now create a count by big country for each team and put it in a temp data frame\n",
    "\n",
    "# Aggregate birth country counts per team \n",
    "# (1) group df_play by team and country, (2) size = count by grouping, (3) unstack = converts birthCountryCate values to columns, (4) reset index = turn team name from index to a column, create unique ID\n",
    "df_team_country_counts = df_players.groupby([\"teamAbbrev\", \"birthCountryCategory\"]).size().unstack(fill_value=0).reset_index()\n",
    "\n",
    "# Rename columns for clarity\n",
    "df_team_country_counts.rename(columns={\n",
    "    \"CAN\": \"num_CAN_players\",\n",
    "    \"USA\": \"num_USA_players\",\n",
    "    \"SWE\": \"num_SWE_players\",\n",
    "    \"FIN\": \"num_FIN_players\",\n",
    "    \"RUS\": \"num_RUS_players\",\n",
    "    \"Other\": \"num_OTHER_players\"\n",
    "}, inplace=True)\n",
    "\n",
    "# Display first few rows\n",
    "df_team_country_counts.head()"
   ]
  },
  {
   "cell_type": "code",
   "execution_count": null,
   "id": "33c6c5ac-17b1-4d65-a0bf-1a9d9bf05db8",
   "metadata": {},
   "outputs": [],
   "source": [
    "#3c add the team country counts to the team_features via merge\n",
    "\n",
    "# Merge new feature into df_team_features without overwriting\n",
    "df_team_features = df_team_features.merge(df_team_country_counts, on=\"teamAbbrev\", how=\"left\")\n",
    "\n",
    "# Display first few rows\n",
    "df_team_features.head()"
   ]
  },
  {
   "cell_type": "code",
   "execution_count": null,
   "id": "abdc482a-7819-4f82-ad44-2d2e533925a1",
   "metadata": {},
   "outputs": [],
   "source": [
    "#lets check df_players if there are other team summary features we want to add\n",
    "df_players.info()"
   ]
  },
  {
   "cell_type": "code",
   "execution_count": null,
   "id": "538541ba-3289-4e26-9789-9278a5a06391",
   "metadata": {},
   "outputs": [],
   "source": [
    "#lets profile shootsCatches column to see what values are in there\n",
    "df_players[\"shootsCatches\"].value_counts()"
   ]
  },
  {
   "cell_type": "code",
   "execution_count": null,
   "id": "2920a00c-81fd-4f00-8a39-5e40397717d9",
   "metadata": {},
   "outputs": [],
   "source": [
    "# lets add another summary feature for how many left or right shots each team has with the shootsCatches column\n",
    "\n",
    "# Aggregate L and R shot counts per team \n",
    "df_shot_counts = df_players.groupby([\"teamAbbrev\", \"shootsCatches\"]).size().unstack(fill_value=0).reset_index()\n",
    "\n",
    "# Rename columns for clarity\n",
    "df_shot_counts.rename(columns={\n",
    "    \"L\": \"num_LeftShot_players\",\n",
    "    \"R\": \"num_RightShot_players\",\n",
    "}, inplace=True)\n",
    "\n",
    "# Display first few rows\n",
    "df_shot_counts.head()"
   ]
  },
  {
   "cell_type": "code",
   "execution_count": null,
   "id": "64b115c3-0f8d-4f57-8e48-e02d6b6c39da",
   "metadata": {},
   "outputs": [],
   "source": [
    "# Merge new feature into df_team_features without overwriting\n",
    "df_team_features = df_team_features.merge(df_shot_counts, on=\"teamAbbrev\", how=\"left\")\n",
    "\n",
    "# Display first few rows\n",
    "df_team_features.head()"
   ]
  },
  {
   "cell_type": "code",
   "execution_count": null,
   "id": "8d74b0a5-1225-4b88-b2ce-f701ea991d94",
   "metadata": {},
   "outputs": [],
   "source": [
    "\"\"\"\"Dead code - # step 4 analyze, visualize and interpret  - does team size affect game outcome?\n",
    "\n",
    "# take average of players height for home and away\n",
    "df_games_players[\"avg_home_height\"] = df_games_players.groupby(\"homeTeamAbbrev\")[\"heightInInches_home\"].transform(\"mean\")\n",
    "df_games_players[\"avg_away_height\"] = df_games_players.groupby(\"awayTeamAbbrev\")[\"heightInInches_away\"].transform(\"mean\")\n",
    "\n",
    "# take average of players weight for home and away\n",
    "df_games_players[\"avg_home_weight\"] = df_games_players.groupby(\"homeTeamAbbrev\")[\"weightInPounds_home\"].transform(\"mean\")\n",
    "df_games_players[\"avg_away_weight\"] = df_games_players.groupby(\"awayTeamAbbrev\")[\"weightInPounds_away\"].transform(\"mean\")\n",
    "\n",
    "df_games_players[[\"homeTeamAbbrev\", \"awayTeamAbbrev\", \"avg_home_height\", \"avg_away_height\", \"avg_home_weight\", \"avg_away_weight\"]].head()\n",
    "\"\"\""
   ]
  },
  {
   "cell_type": "code",
   "execution_count": null,
   "id": "597dcc72-eecb-46d8-a3cf-ca1fde93a9f3",
   "metadata": {},
   "outputs": [],
   "source": [
    "df_team_features.info()"
   ]
  },
  {
   "cell_type": "code",
   "execution_count": null,
   "id": "e082165f-91ae-4f5b-8b4e-88518abe44b3",
   "metadata": {},
   "outputs": [],
   "source": [
    "# merge team features into the games data frame \n",
    "#we'll have features for both the home and away teams, so we'll need to merge twice\n",
    "\n",
    "#merge team player features with home team of games\n",
    "df_games = df_games.merge(df_team_features, left_on=\"homeTeamAbbrev\", right_on=\"teamAbbrev\", how=\"left\")\n",
    "\n",
    "# Rename columns to indicate they are for the home team\n",
    "df_games.rename(columns={\n",
    "    \"avg_team_weight\": \"avg_home_weight\",\n",
    "    \"avg_team_height\": \"avg_home_height\",\n",
    "    \"avg_team_age\": \"avg_home_age\",\n",
    "    \"num_CAN_players\": \"num_CAN_home\",\n",
    "    \"num_FIN_players\": \"num_FIN_home\",\n",
    "    \"OTHER\": \"num_OTHER_home\",\n",
    "    \"num_RUS_players\": \"num_RUS_home\",\n",
    "    \"num_SWE_players\": \"num_SWE_home\",\n",
    "    \"num_USA_players\": \"num_USA_home\",\n",
    "    \"num_LeftShot_players\": \"num_LeftShot_home\",\n",
    "    \"num_RightShot_players\": \"num_RightShot_home\"\n",
    "}, inplace=True)\n",
    "\n",
    "# Drop duplicate team column\n",
    "df_games.drop(columns=[\"teamAbbrev\"], inplace=True)\n"
   ]
  },
  {
   "cell_type": "code",
   "execution_count": null,
   "id": "3b013558-f7e3-41bd-a7aa-319672021c2c",
   "metadata": {},
   "outputs": [],
   "source": [
    "# do the same merge for the away team\n",
    "\n",
    "df_games = df_games.merge(df_team_features, left_on=\"awayTeamAbbrev\", right_on=\"teamAbbrev\", how=\"left\")\n",
    "\n",
    "# Rename columns to indicate they are for the away team\n",
    "df_games.rename(columns={\n",
    "    \"avg_team_weight\": \"avg_away_weight\",\n",
    "    \"avg_team_height\": \"avg_away_height\",\n",
    "    \"avg_team_age\": \"avg_away_age\",\n",
    "    \"num_CAN_players\": \"num_CAN_away\",\n",
    "    \"num_FIN_players\": \"num_FIN_away\",\n",
    "    \"OTHER\": \"num_OTHER_away\",\n",
    "    \"num_RUS_players\": \"num_RUS_away\",\n",
    "    \"num_SWE_players\": \"num_SWE_away\",\n",
    "    \"num_USA_players\": \"num_USA_away\",\n",
    "    \"num_LeftShot_players\": \"num_LeftShot_away\",\n",
    "    \"num_RightShot_players\": \"num_RightShot_away\"\n",
    "}, inplace=True)\n",
    "\n",
    "# Drop duplicate team column\n",
    "df_games.drop(columns=[\"teamAbbrev\"], inplace=True)\n",
    "\n"
   ]
  },
  {
   "cell_type": "code",
   "execution_count": null,
   "id": "a2e8e0ea-b29c-457c-8dbd-e28b1f01e8cb",
   "metadata": {},
   "outputs": [],
   "source": [
    "# check the merge worked\n",
    "\n",
    "df_games.info()\n",
    "df_games.head()\n",
    "\n",
    "# we get 2043 games with all the fields from games + team features (player summary) - perfect! "
   ]
  },
  {
   "cell_type": "code",
   "execution_count": null,
   "id": "4d20f35e-ea89-400d-9334-108237ccc304",
   "metadata": {},
   "outputs": [],
   "source": [
    "# Determine winning team & add column \n",
    "df_games[\"winningTeam\"] = df_games.apply(\n",
    "    lambda x: x[\"homeTeamAbbrev\"] if x[\"homeTeamScore\"] > x[\"awayTeamScore\"] \n",
    "    else (x[\"awayTeamAbbrev\"] if x[\"homeTeamScore\"] < x[\"awayTeamScore\"] else \"Tie\"),\n",
    "    axis=1\n",
    ")"
   ]
  },
  {
   "cell_type": "code",
   "execution_count": null,
   "id": "8baf4b11-b8a5-4035-a599-24a005e5813e",
   "metadata": {},
   "outputs": [],
   "source": [
    "# visualize height, weight and game win/losses\n",
    "\n",
    "# Plot average player weight in winning teams (*flaw: uses the home team's weight in all cases, even when home team won)\n",
    "plt.figure(figsize=(10, 5))\n",
    "sns.boxplot(x=df_games[\"winningTeam\"], y=df_games[\"avg_home_weight\"], palette=\"coolwarm\")\n",
    "plt.title(\"Average Player Weight in Winning Teams\")\n",
    "plt.xticks(rotation=45)\n",
    "plt.show()\n"
   ]
  },
  {
   "cell_type": "code",
   "execution_count": null,
   "id": "4e21fdb8-bf30-439a-b73e-75b40b735eb5",
   "metadata": {},
   "outputs": [],
   "source": [
    "#step 4 analyze - home vs away win %\n",
    "\n",
    "# Count home and away wins\n",
    "home_wins = (df_games[\"winningTeam\"] == df_games[\"homeTeamAbbrev\"]).sum()\n",
    "away_wins = (df_games[\"winningTeam\"] == df_games[\"awayTeamAbbrev\"]).sum()\n",
    "ties = (df_games[\"winningTeam\"] == \"Tie\").sum()\n",
    "\n",
    "# Print results\n",
    "print(f\"🏠 Home Wins: {home_wins}\")\n",
    "print(f\"✈️ Away Wins: {away_wins}\")\n",
    "print(f\"🤝 Ties: {ties}\")"
   ]
  },
  {
   "cell_type": "code",
   "execution_count": null,
   "id": "ac07c19a-68c2-4779-8b08-04468a3dd100",
   "metadata": {},
   "outputs": [],
   "source": [
    "# plot home vs. away %\n",
    "\n",
    "# Data for visualization\n",
    "win_data = pd.DataFrame({\n",
    "    \"Category\": [\"Home Wins\", \"Away Wins\", \"Ties\"],\n",
    "    \"Count\": [home_wins, away_wins, ties]\n",
    "})\n",
    "\n",
    "# Create bar plot\n",
    "plt.figure(figsize=(8, 5))\n",
    "sns.barplot(x=\"Category\", y=\"Count\", data=win_data, palette=\"coolwarm\")\n",
    "\n",
    "# Add labels and title\n",
    "plt.title(\"🏒 Home vs. Away Win Distribution\")\n",
    "plt.ylabel(\"Number of Wins\")\n",
    "plt.xlabel(\"Game Outcome\")\n",
    "\n",
    "# Show the plot\n",
    "plt.show()"
   ]
  },
  {
   "cell_type": "code",
   "execution_count": null,
   "id": "60a2d201-6179-43e3-9470-b83364e410d1",
   "metadata": {},
   "outputs": [],
   "source": [
    "\"\"\" Dead code - we aggregated player states per team above\n",
    "\n",
    "# redo - games are inflated because game-player table has each game duplicated for x players on a team.  Lets fix this by removing duplicate game records\n",
    "\n",
    "df_unique_games = df_games_players.drop_duplicates(subset=[\"gameID\"])\n",
    "\n",
    "# Count home and away wins using unique game IDs\n",
    "home_wins = (df_unique_games[\"winningTeam\"] == df_unique_games[\"homeTeamAbbrev\"]).sum()\n",
    "away_wins = (df_unique_games[\"winningTeam\"] == df_unique_games[\"awayTeamAbbrev\"]).sum()\n",
    "ties = (df_unique_games[\"winningTeam\"] == \"Tie\").sum()\n",
    "\n",
    "# Print results\n",
    "print(f\"🏠 Home Wins: {home_wins}\")\n",
    "print(f\"✈️ Away Wins: {away_wins}\")\n",
    "print(f\"🤝 Ties: {ties}\")\n",
    "\n",
    "total_games = home_wins + away_wins + ties\n",
    "\n",
    "home_win_rate = (home_wins / total_games) * 100\n",
    "away_win_rate = (away_wins / total_games) * 100\n",
    "tie_rate = (ties / total_games) * 100\n",
    "\n",
    "# Print win percentages\n",
    "print(f\"🏠 Home Win Rate: {home_win_rate:.2f}%\")\n",
    "print(f\"✈️ Away Win Rate: {away_win_rate:.2f}%\")\n",
    "print(f\"🤝 Tie Rate: {tie_rate:.2f}%\")\n",
    "\n",
    "import matplotlib.pyplot as plt\n",
    "import seaborn as sns\n",
    "\n",
    "# Data for visualization\n",
    "win_data = pd.DataFrame({\n",
    "    \"Category\": [\"Home Wins\", \"Away Wins\", \"Ties\"],\n",
    "    \"Count\": [home_wins, away_wins, ties]\n",
    "})\n",
    "\n",
    "# Create bar plot\n",
    "plt.figure(figsize=(8, 5))\n",
    "sns.barplot(x=\"Category\", y=\"Count\", data=win_data, palette=\"coolwarm\")\n",
    "\n",
    "# Add labels and title\n",
    "plt.title(\"🏒 Home vs. Away Win Distribution (Unique Games)\")\n",
    "plt.ylabel(\"Number of Wins\")\n",
    "plt.xlabel(\"Game Outcome\")\n",
    "\n",
    "# Show the plot\n",
    "plt.show()\n",
    "\n",
    "\"\"\"\n"
   ]
  },
  {
   "cell_type": "code",
   "execution_count": null,
   "id": "2776223d-9048-4f2b-9371-a8ea6c0ab527",
   "metadata": {},
   "outputs": [],
   "source": [
    "Train an AI Model to Predict Game Winners 🏆🔮\n",
    "Now that we have structured NHL game data, we can train a machine learning model to predict which team will win based on team and player attributes.\n",
    "\n",
    "Overview: How We’ll Build the Model\n",
    "\n",
    "1️⃣ Define the Problem – Predict whether the home team or away team will win.\n",
    "2️⃣ Select Features – Choose player & team stats as inputs.\n",
    "3️⃣ Prepare the Dataset – Convert categorical data, handle missing values.\n",
    "4️⃣ Train Machine Learning Models – Use Logistic Regression, Random Forest, or XGBoost.\n",
    "5️⃣ Evaluate Model Performance – Check accuracy, precision, recall.\n",
    "6️⃣ Make Predictions on Future Games – Predict upcoming match results."
   ]
  },
  {
   "cell_type": "code",
   "execution_count": null,
   "id": "f301597b-5995-4b1c-96b9-7eab63041fed",
   "metadata": {},
   "outputs": [],
   "source": []
  },
  {
   "cell_type": "code",
   "execution_count": null,
   "id": "ff043e26-1cd4-42d1-a233-61710fb32893",
   "metadata": {},
   "outputs": [],
   "source": []
  },
  {
   "cell_type": "code",
   "execution_count": null,
   "id": "d8045811-83c0-4752-aec3-010ebd89c524",
   "metadata": {},
   "outputs": [],
   "source": [
    "# refresh on contents of data we have\n",
    "\n",
    "df_games.info()\n",
    "df_games.head()"
   ]
  },
  {
   "cell_type": "code",
   "execution_count": null,
   "id": "2810730b-8705-4220-9599-6766937c62d8",
   "metadata": {},
   "outputs": [],
   "source": [
    "\"\"\"\n",
    "Step 1: Define the Problem\n",
    "\n",
    "Input (X): Team/player statistics before the game.\n",
    "Output (Y): winningTeam, where:\n",
    "1 = Home Team Wins\n",
    "0 = Away Team Wins\n",
    "\"\"\"\n",
    "\n",
    "# Create the target variable\n",
    "df_games[\"homeWin\"] = (df_games[\"winningTeam\"] == df_games[\"homeTeamAbbrev\"]).astype(int)\n",
    "\n",
    "# Drop unneeded columns\n",
    "df_model = df_games.drop(columns=[\"winningTeam\", \"gameID\"])\n",
    "\n",
    "# verify \n",
    "df_model.info()\n",
    "df_model.head()"
   ]
  },
  {
   "cell_type": "code",
   "execution_count": null,
   "id": "5768700f-dbf1-4a24-911d-59b57f318e05",
   "metadata": {},
   "outputs": [],
   "source": [
    "\"\"\"\n",
    "Step 2: Select Features for the Model\n",
    "\n",
    "We need to choose numerical features that might influence game outcomes.\n",
    "\n",
    "🔹 Key Features to Include\n",
    "Team Attributes:\n",
    "avg_home_weight, avg_away_weight (Avg. player weight per team)\n",
    "avg_home_height, avg_away_height (Avg. player height per team)\n",
    "homeTeamScore, awayTeamScore (Previous performance)\n",
    "avg_away_age, avg_home_age (experience/age of players on team)\n",
    "num_<country>_players (nationality of players on team)\n",
    "num_LeftShot_players, num_RightShot_players (right/left handed shooters on team)\n",
    "\"\"\"\n",
    "\n",
    "# Select features\n",
    "features = [\n",
    "    \"avg_home_weight\", \"avg_away_weight\",\n",
    "    \"avg_home_height\", \"avg_away_height\",\n",
    "    \"homeTeamScore\", \"awayTeamScore\",\n",
    "    \"avg_home_age\", \"avg_away_age\",\n",
    "    \"num_LeftShot_home\", \"num_RightShot_home\",\n",
    "    \"num_LeftShot_away\", \"num_RightShot_away\",\n",
    "    \"num_CAN_home\", \"num_CAN_away\",\n",
    "    \"num_USA_home\", \"num_USA_away\",\n",
    "    \"num_FIN_home\", \"num_FIN_away\",\n",
    "    \"num_SWE_home\", \"num_SWE_away\",\n",
    "    \"num_RUS_home\", \"num_RUS_away\",\n",
    "    \"num_OTHER_home\", \"num_OTHER_away\"\n",
    "]\n",
    "\n",
    "# set X (features) and Y (homeWin team wins yes/1 or no/0) in the model\n",
    "X = df_model[features]\n",
    "y = df_model[\"homeWin\"]\n",
    "\n",
    "#check parameters\n",
    "X.info()\n",
    "y.info()\n"
   ]
  },
  {
   "cell_type": "code",
   "execution_count": null,
   "id": "72456a6e-e7e8-405d-8a0e-20c3b4313bf5",
   "metadata": {},
   "outputs": [],
   "source": [
    "# Monitor DataFrame Memory Usage\n",
    "\n",
    "def show_memory_usage():\n",
    "    \"\"\"Displays memory usage of all DataFrames in global scope.\"\"\"\n",
    "    for var_name in list(globals()):\n",
    "        var_value = globals()[var_name]\n",
    "        if isinstance(var_value, (pd.DataFrame, pd.Series)):  # Check if it's a DataFrame\n",
    "            print(f\"{var_name}: {sys.getsizeof(var_value) / (1024 * 1024):.2f} MB\")\n",
    "\n",
    "show_memory_usage()  # Run this after loading data"
   ]
  },
  {
   "cell_type": "code",
   "execution_count": null,
   "id": "475c7b8c-93e8-4149-8141-65c9c29eceb7",
   "metadata": {},
   "outputs": [],
   "source": [
    "# Delete Large DataFrames When No Longer Needed\n",
    "\n",
    "def delete_dataframe(df):\n",
    "    del df\n",
    "    gc.collect()  # Force garbage collection\n"
   ]
  },
  {
   "cell_type": "code",
   "execution_count": null,
   "id": "3079b363-4558-4467-8dfc-aa600e0aa577",
   "metadata": {},
   "outputs": [],
   "source": [
    "# Optimize DataFrame Column Types (from 64->32 float or int vars)\n",
    "\n",
    "def optimize_dataframe(df):\n",
    "    \"\"\"Reduce memory usage by downcasting numerical columns.\"\"\"\n",
    "    for col in df.select_dtypes(include=['float64']):\n",
    "        df[col] = df[col].astype('float32')\n",
    "    for col in df.select_dtypes(include=['int64']):\n",
    "        df[col] = df[col].astype('int32')\n",
    "    return df\n"
   ]
  },
  {
   "cell_type": "code",
   "execution_count": null,
   "id": "a7c5496a-eeb1-4929-a283-081efb3998cd",
   "metadata": {},
   "outputs": [],
   "source": [
    "# remove hidden variables that are taking up memory\n",
    "\n",
    "def remove_hidden_variables():\n",
    "    %reset out -f\n"
   ]
  },
  {
   "cell_type": "code",
   "execution_count": null,
   "id": "74512456-d0e6-4da3-8fe4-728b3761d65e",
   "metadata": {},
   "outputs": [],
   "source": [
    "#clean up memory\n",
    "\n",
    "remove_hidden_variables()\n",
    "optimize_dataframe(df_model)"
   ]
  },
  {
   "cell_type": "code",
   "execution_count": null,
   "id": "5a8c207e-b82b-4f92-9a2f-cbed8ab852cd",
   "metadata": {},
   "outputs": [],
   "source": [
    "show_memory_usage()"
   ]
  },
  {
   "cell_type": "markdown",
   "id": "3bdaa5e9-96dd-46eb-b0bc-c06a8717b763",
   "metadata": {},
   "source": [
    "Step 3️⃣ Prepare the Dataset\n",
    "- Fill missing values with mean\n",
    "- Scale features\n",
    "- Split data intro training and validation / testing sets"
   ]
  },
  {
   "cell_type": "code",
   "execution_count": null,
   "id": "63f17019-cfcc-4ba1-8446-421b191da02b",
   "metadata": {},
   "outputs": [],
   "source": [
    "#3a: fill missing values with mean\n",
    "\n",
    "X.fillna(X.mean(), inplace=True)"
   ]
  },
  {
   "cell_type": "code",
   "execution_count": null,
   "id": "6ea33028-03e9-41d4-9fff-677c4601d270",
   "metadata": {},
   "outputs": [],
   "source": [
    "#3b: scale features that have different ranges - so that they have mean ~ 0 and std dev ~ 1, ideal for model performance\n",
    "\n",
    "from sklearn.preprocessing import StandardScaler\n",
    "\n",
    "scaler = StandardScaler()\n",
    "X_scaled = scaler.fit_transform(X)  # Standardizes all numeric features\n"
   ]
  },
  {
   "cell_type": "code",
   "execution_count": null,
   "id": "f9ee0d43-d454-4d5a-8315-543c4c3d3ef6",
   "metadata": {},
   "outputs": [],
   "source": [
    "# verify --> shows that are n (2043) games by 24 features (# of cols) in the array.  And first 5 features have mean ~0 and std dev ~1\n",
    "\n",
    "import numpy as np\n",
    "\n",
    "print(f\"Shape of X_scaled: {X_scaled.shape}\")  # Check dimensions\n",
    "print(f\"Mean of first 5 features: {np.mean(X_scaled, axis=0)[:5]}\")  # Check mean\n",
    "print(f\"Std Dev of first 5 features: {np.std(X_scaled, axis=0)[:5]}\")  # Check standard deviation\n"
   ]
  },
  {
   "cell_type": "code",
   "execution_count": null,
   "id": "ff1d3404-23f0-409f-83e7-062a161f546a",
   "metadata": {},
   "outputs": [],
   "source": [
    "#3c: split data between training set (80% of X) and validation/testing set (20% of X)\n",
    "\n",
    "from sklearn.model_selection import train_test_split\n",
    "\n",
    "X_train, X_test, y_train, y_test = train_test_split(X_scaled, y, test_size=0.2, random_state=42, stratify=y)\n",
    "\n",
    "# random_state provides a seed so that results are re-producable (same sample each time)\n",
    "# stratify preserves the distribution of y / homeWin in each sample (eg. 60% home wins)"
   ]
  },
  {
   "cell_type": "code",
   "execution_count": null,
   "id": "6cb690c5-dda2-4399-9d12-c9a4901b511c",
   "metadata": {},
   "outputs": [],
   "source": [
    "# verify size of training and test sets\n",
    "\n",
    "y_test.value_counts()"
   ]
  }
 ],
 "metadata": {
  "kernelspec": {
   "display_name": "Python 3 (ipykernel)",
   "language": "python",
   "name": "python3"
  },
  "language_info": {
   "codemirror_mode": {
    "name": "ipython",
    "version": 3
   },
   "file_extension": ".py",
   "mimetype": "text/x-python",
   "name": "python",
   "nbconvert_exporter": "python",
   "pygments_lexer": "ipython3",
   "version": "3.13.2"
  }
 },
 "nbformat": 4,
 "nbformat_minor": 5
}
